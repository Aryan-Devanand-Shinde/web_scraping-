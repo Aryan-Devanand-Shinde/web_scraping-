{
 "cells": [
  {
   "cell_type": "code",
   "execution_count": 1,
   "id": "8604a96b-4eaf-4436-b35f-2c24b7f7c46f",
   "metadata": {},
   "outputs": [],
   "source": [
    "import requests as rr\n",
    "from bs4 import BeautifulSoup as BS "
   ]
  },
  {
   "cell_type": "code",
   "execution_count": 2,
   "id": "c03c15ac-16a0-4e95-bc7e-3d59b0efe596",
   "metadata": {},
   "outputs": [],
   "source": [
    "web = rr.get(\"https://www.tutorialsfreak.com/\")"
   ]
  },
  {
   "cell_type": "code",
   "execution_count": 3,
   "id": "e98c0128-ac99-4f44-a5f8-d2981eecafd9",
   "metadata": {},
   "outputs": [],
   "source": [
    "soup = BS(web.content,\"html.parser\")"
   ]
  },
  {
   "cell_type": "code",
   "execution_count": 5,
   "id": "13c96f0e-138a-49e6-99ed-acc9531081f1",
   "metadata": {},
   "outputs": [
    {
     "name": "stdout",
     "output_type": "stream",
     "text": [
      "/\n",
      "/search\n",
      "/\n",
      "/\n",
      "/\n",
      "/\n",
      "/\n",
      "/\n",
      "/\n",
      "/\n",
      "/compiler/c\n",
      "/compiler/css\n",
      "/compiler/html\n",
      "/compiler/jquery\n",
      "/compiler/cpp\n",
      "/compiler/php\n",
      "/compiler/python\n",
      "https://bit.ly/web-developer-course-ws\n",
      "https://bit.ly/web-developer-course-ws\n",
      "https://bit.ly/digital-marketing-course-ws\n",
      "https://bit.ly/digital-marketing-course-ws\n",
      "https://bit.ly/seo-course-ws\n",
      "https://bit.ly/seo-course-ws\n",
      "https://www.wscubetech.com/online-python-certification-course-india.html?utm_source=TutorialsFreak&utm_medium=python-tutorial&utm_campaign=leads\n",
      "https://www.wscubetech.com/online-python-certification-course-india.html?utm_source=TutorialsFreak&utm_medium=python-tutorial&utm_campaign=leads\n",
      "https://www.wscubetech.com/online-data-analytics-course.html?utm_source=TutorialsFreak&utm_medium=ai-tutorial&utm_campaign=leads\n",
      "https://www.wscubetech.com/online-data-analytics-course.html?utm_source=TutorialsFreak&utm_medium=ai-tutorial&utm_campaign=leads\n",
      "https://www.wscubetech.com/online-ethical-hacking-course.html?utm_source=TutorialsFreak&utm_medium=eh-tutorial&utm_campaign=leads\n",
      "https://www.wscubetech.com/online-ethical-hacking-course.html?utm_source=TutorialsFreak&utm_medium=eh-tutorial&utm_campaign=leads\n",
      "https://play.google.com/store/apps/details?id=com.tutorialsfreak\n",
      "/\n",
      "https://www.facebook.com/tutorialsfreak\n",
      "https://twitter.com/TutorialsFreak\n",
      "https://www.instagram.com/tutorials_freak/\n",
      "https://www.linkedin.com/company/tutorialsfreak/\n",
      "/terms-conditons\n",
      "/privacy-policy\n",
      "/about-us\n",
      "/contact-us\n",
      "https://www.wscubetech.com/\n"
     ]
    }
   ],
   "source": [
    "link = soup.find_all(\"a\")\n",
    "for l in link:\n",
    "    print(l.get(\"href\"))"
   ]
  },
  {
   "cell_type": "code",
   "execution_count": null,
   "id": "322be44b-bb5e-48f7-8359-666928974c33",
   "metadata": {},
   "outputs": [],
   "source": []
  }
 ],
 "metadata": {
  "kernelspec": {
   "display_name": "Python 3 (ipykernel)",
   "language": "python",
   "name": "python3"
  },
  "language_info": {
   "codemirror_mode": {
    "name": "ipython",
    "version": 3
   },
   "file_extension": ".py",
   "mimetype": "text/x-python",
   "name": "python",
   "nbconvert_exporter": "python",
   "pygments_lexer": "ipython3",
   "version": "3.11.0"
  }
 },
 "nbformat": 4,
 "nbformat_minor": 5
}

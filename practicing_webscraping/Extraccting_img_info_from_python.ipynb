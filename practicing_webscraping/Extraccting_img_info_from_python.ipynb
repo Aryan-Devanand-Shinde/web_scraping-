{
 "cells": [
  {
   "cell_type": "code",
   "execution_count": 1,
   "id": "57716296-540f-4069-aac7-75a76f53a4d0",
   "metadata": {},
   "outputs": [],
   "source": [
    "import requests as rr\n",
    "from bs4 import BeautifulSoup as bs"
   ]
  },
  {
   "cell_type": "code",
   "execution_count": 3,
   "id": "ece019f0-0e34-4f01-9d96-df73cb96e6b4",
   "metadata": {},
   "outputs": [],
   "source": [
    "web = rr.get(\"https://www.tutorialsfreak.com/\")"
   ]
  },
  {
   "cell_type": "code",
   "execution_count": 5,
   "id": "f6777c89-6e9b-47c3-9149-aa8b642768ae",
   "metadata": {},
   "outputs": [],
   "source": [
    "soup = bs(web.content,\"html.parser\")"
   ]
  },
  {
   "cell_type": "code",
   "execution_count": 7,
   "id": "be93b612-8973-4c2c-8f7b-205d800e0f1f",
   "metadata": {},
   "outputs": [
    {
     "name": "stdout",
     "output_type": "stream",
     "text": [
      "data:image/svg+xml,%3csvg%20xmlns=%27http://www.w3.org/2000/svg%27%20version=%271.1%27%20width=%27192%27%20height=%2756%27/%3e\n",
      "data:image/gif;base64,R0lGODlhAQABAIAAAAAAAP///yH5BAEAAAAALAAAAAABAAEAAAIBRAA7\n",
      "/images/tutorials-freak-logo.svg\n",
      "/images/search.svg\n",
      "data:image/gif;base64,R0lGODlhAQABAIAAAAAAAP///yH5BAEAAAAALAAAAAABAAEAAAIBRAA7\n",
      "/_next/image?url=%2Fimages%2Fbanner-middle.webp&w=3840&q=75\n",
      "/images/kotlin-img.svg\n",
      "/images/eagle-img.svg\n",
      "/images/apple-img.svg\n",
      "/images/angular-img.svg\n",
      "/images/python-img.svg\n",
      "/images/react-img.svg\n",
      "/images/android-img.svg\n",
      "/images/java-img.svg\n",
      "data:image/svg+xml,%3csvg%20xmlns=%27http://www.w3.org/2000/svg%27%20version=%271.1%27%20width=%2748%27%20height=%2748%27/%3e\n",
      "data:image/gif;base64,R0lGODlhAQABAIAAAAAAAP///yH5BAEAAAAALAAAAAABAAEAAAIBRAA7\n",
      "https://d2x0t6n5jvjipg.cloudfront.net/uploads/learning-course/images/home-page/2cd6e0d7-4864-4837-a4a7-e0b120282e8d-1648197173.svg\n",
      "data:image/svg+xml,%3csvg%20xmlns=%27http://www.w3.org/2000/svg%27%20version=%271.1%27%20width=%2748%27%20height=%2748%27/%3e\n",
      "data:image/gif;base64,R0lGODlhAQABAIAAAAAAAP///yH5BAEAAAAALAAAAAABAAEAAAIBRAA7\n",
      "https://d2x0t6n5jvjipg.cloudfront.net/uploads/learning-course/images/home-page/e5eb78ac-30fd-4443-8f23-63bd378c0c01-1645691302.svg\n",
      "data:image/svg+xml,%3csvg%20xmlns=%27http://www.w3.org/2000/svg%27%20version=%271.1%27%20width=%2748%27%20height=%2748%27/%3e\n",
      "data:image/gif;base64,R0lGODlhAQABAIAAAAAAAP///yH5BAEAAAAALAAAAAABAAEAAAIBRAA7\n",
      "https://d2x0t6n5jvjipg.cloudfront.net/uploads/learning-course/images/home-page/7f47bf14-d748-40f4-b9a5-921b1bb4df3f-1648197078.svg\n",
      "/images/compilor.webp\n",
      "data:image/svg+xml,%3csvg%20xmlns=%27http://www.w3.org/2000/svg%27%20version=%271.1%27%20width=%2725%27%20height=%2725%27/%3e\n",
      "data:image/gif;base64,R0lGODlhAQABAIAAAAAAAP///yH5BAEAAAAALAAAAAABAAEAAAIBRAA7\n",
      "https://d2x0t6n5jvjipg.cloudfront.net/uploads/images/study-material-compiler/f60ffd71-5b88-42f8-8396-75ad661dd4e9-1664191180.svg\n",
      "data:image/svg+xml,%3csvg%20xmlns=%27http://www.w3.org/2000/svg%27%20version=%271.1%27%20width=%2725%27%20height=%2725%27/%3e\n",
      "data:image/gif;base64,R0lGODlhAQABAIAAAAAAAP///yH5BAEAAAAALAAAAAABAAEAAAIBRAA7\n",
      "https://d2x0t6n5jvjipg.cloudfront.net/uploads/images/study-material-compiler/b5be3eb0-8ae8-4e22-97c9-0cdcb2a250e4-1664191183.svg\n",
      "data:image/svg+xml,%3csvg%20xmlns=%27http://www.w3.org/2000/svg%27%20version=%271.1%27%20width=%2725%27%20height=%2725%27/%3e\n",
      "data:image/gif;base64,R0lGODlhAQABAIAAAAAAAP///yH5BAEAAAAALAAAAAABAAEAAAIBRAA7\n",
      "https://d2x0t6n5jvjipg.cloudfront.net/uploads/images/study-material-compiler/329300da-2f51-419c-be8e-58262e91fac0-1664257495.svg\n",
      "data:image/svg+xml,%3csvg%20xmlns=%27http://www.w3.org/2000/svg%27%20version=%271.1%27%20width=%2725%27%20height=%2725%27/%3e\n",
      "data:image/gif;base64,R0lGODlhAQABAIAAAAAAAP///yH5BAEAAAAALAAAAAABAAEAAAIBRAA7\n",
      "https://d2x0t6n5jvjipg.cloudfront.net/uploads/images/study-material-compiler/da172d80-2fd9-4c25-a180-5c4d7ef1b13b-1663998203.svg\n",
      "data:image/svg+xml,%3csvg%20xmlns=%27http://www.w3.org/2000/svg%27%20version=%271.1%27%20width=%2725%27%20height=%2725%27/%3e\n",
      "data:image/gif;base64,R0lGODlhAQABAIAAAAAAAP///yH5BAEAAAAALAAAAAABAAEAAAIBRAA7\n",
      "https://d2x0t6n5jvjipg.cloudfront.net/uploads/images/study-material-compiler/ac77b308-23fd-4c41-a26c-c5df53f7e1a0-1664257491.svg\n",
      "data:image/svg+xml,%3csvg%20xmlns=%27http://www.w3.org/2000/svg%27%20version=%271.1%27%20width=%2725%27%20height=%2725%27/%3e\n",
      "data:image/gif;base64,R0lGODlhAQABAIAAAAAAAP///yH5BAEAAAAALAAAAAABAAEAAAIBRAA7\n",
      "https://d2x0t6n5jvjipg.cloudfront.net/uploads/images/study-material-compiler/0348b25c-17b7-4ade-962b-d71fd3753814-1663998384.svg\n",
      "data:image/svg+xml,%3csvg%20xmlns=%27http://www.w3.org/2000/svg%27%20version=%271.1%27%20width=%2725%27%20height=%2725%27/%3e\n",
      "data:image/gif;base64,R0lGODlhAQABAIAAAAAAAP///yH5BAEAAAAALAAAAAABAAEAAAIBRAA7\n",
      "https://d2x0t6n5jvjipg.cloudfront.net/uploads/images/study-material-compiler/6ead73cf-3385-44f1-a540-4f717fc7e467-1663998221.svg\n",
      "https://d2x0t6n5jvjipg.cloudfront.net/uploads/learning-course/images/lcourses/99334bcb-06ec-402d-8461-a1d886d97b8e-1654319072.png\n",
      "https://d2x0t6n5jvjipg.cloudfront.net/uploads/learning-course/images/lcourses/861b734d-1200-4ef9-9f80-fdcbf2d5918b-1654781169.png\n",
      "https://d2x0t6n5jvjipg.cloudfront.net/uploads/learning-course/images/lcourses/28a317b0-5132-4aba-8a49-5ea970f23a49-1671862480.png\n",
      "https://d2x0t6n5jvjipg.cloudfront.net/uploads/learning-course/images/lcourses/6dee8d03-5667-4b32-b483-af2b62dcd8d3-1647338788.png\n",
      "https://d2x0t6n5jvjipg.cloudfront.net/uploads/learning-course/images/lcourses/7fd6b3ae-d77a-4e80-80bc-02b5b47c32df-1647346507.png\n",
      "https://d2x0t6n5jvjipg.cloudfront.net/uploads/learning-course/images/lcourses/6f00770a-cf1d-44e6-b68b-a6cbce05d35c-1647341196.png\n",
      "https://d2x0t6n5jvjipg.cloudfront.net/uploads/learning-course/images/lcourses/283eae7c-8974-49f2-a0a5-e0ac4c0e9215-1647338853.png\n",
      "https://d2x0t6n5jvjipg.cloudfront.net/uploads/learning-course/images/lcourses/777b9062-963f-41b9-b379-dbd7e45155ac-1647341118.png\n",
      "https://d2x0t6n5jvjipg.cloudfront.net/uploads/learning-course/images/lcourses/bbbfd30a-e52d-4e03-ae5c-d76e95e7a22f-1647341152.png\n",
      "https://d2x0t6n5jvjipg.cloudfront.net/uploads/learning-course/images/lcourses/6809478b-e2d9-40c4-bd9b-49af619fe51d-1647341184.png\n",
      "https://d2x0t6n5jvjipg.cloudfront.net/uploads/learning-course/images/lcourses/6866b1dd-63f8-4890-8575-b9694a0f2059-1647346542.png\n",
      "https://d2x0t6n5jvjipg.cloudfront.net/uploads/learning-course/images/lcourses/1d92f6e0-6c73-4cfe-97af-6c1107cb3a81-1647346526.png\n",
      "https://d2x0t6n5jvjipg.cloudfront.net/uploads/learning-course/images/lcourses/a111d660-d0b6-404b-86e1-6b729fbdc179-1683633265.png\n",
      "https://d2x0t6n5jvjipg.cloudfront.net/uploads/learning-course/images/lcourses/6dee8d03-5667-4b32-b483-af2b62dcd8d3-1647338788.png\n",
      "https://d2x0t6n5jvjipg.cloudfront.net/uploads/learning-course/images/lcourses/7fd6b3ae-d77a-4e80-80bc-02b5b47c32df-1647346507.png\n",
      "https://d2x0t6n5jvjipg.cloudfront.net/uploads/learning-course/images/lcourses/283eae7c-8974-49f2-a0a5-e0ac4c0e9215-1647338853.png\n",
      "https://d2x0t6n5jvjipg.cloudfront.net/uploads/learning-course/images/lcourses/bbbfd30a-e52d-4e03-ae5c-d76e95e7a22f-1647341152.png\n",
      "https://d2x0t6n5jvjipg.cloudfront.net/uploads/learning-course/images/lcourses/6866b1dd-63f8-4890-8575-b9694a0f2059-1647346542.png\n",
      "https://d2x0t6n5jvjipg.cloudfront.net/uploads/learning-course/images/lcourses/1d92f6e0-6c73-4cfe-97af-6c1107cb3a81-1647346526.png\n",
      "https://d2x0t6n5jvjipg.cloudfront.net/uploads/learning-course/images/lcourses/2abdc9df-3185-46bb-8d15-48f957251183-1698927883.png\n",
      "https://d2x0t6n5jvjipg.cloudfront.net/uploads/learning-course/images/lcourses/bbbfd30a-e52d-4e03-ae5c-d76e95e7a22f-1647341152.png\n",
      "https://d2x0t6n5jvjipg.cloudfront.net/uploads/learning-course/images/lcourses/a111d660-d0b6-404b-86e1-6b729fbdc179-1683633265.png\n",
      "/images/ws-cube-tech-logo.svg\n",
      "https://d2x0t6n5jvjipg.cloudfront.net/uploads/images/live-course/efd015c2-41c7-4a6b-a070-0f703772b6b4-1706854302.jpg\n",
      "https://d2x0t6n5jvjipg.cloudfront.net/uploads/images/live-course/15bc3a4a-e684-45b9-b22a-d156711f1505-1706854288.jpg\n",
      "https://d2x0t6n5jvjipg.cloudfront.net/uploads/images/live-course/3bc94ced-cf7a-4d08-9a65-581c38fb14c2-1706854314.jpg\n",
      "https://d2x0t6n5jvjipg.cloudfront.net/uploads/images/live-course/60d7ca0f-7dc9-4d96-a9b5-155fd32ebda8-1706854405.jpg\n",
      "https://d2x0t6n5jvjipg.cloudfront.net/uploads/images/live-course/948a0a2c-3199-44b3-a1c2-be41e5c5c3e1-1706854606.jpg\n",
      "https://d2x0t6n5jvjipg.cloudfront.net/uploads/images/live-course/34497f12-312c-4827-8dae-7d7914314e74-1706854737.jpg\n",
      "/images/play-store.png\n",
      "https://d2x0t6n5jvjipg.cloudfront.net/uploads/learning-course/images/home-page/3d2ca30d-f3bd-45b7-aae5-2c547e2a35a2-1690631574.webp\n",
      "data:image/svg+xml,%3csvg%20xmlns=%27http://www.w3.org/2000/svg%27%20version=%271.1%27%20width=%27192%27%20height=%2756%27/%3e\n",
      "data:image/gif;base64,R0lGODlhAQABAIAAAAAAAP///yH5BAEAAAAALAAAAAABAAEAAAIBRAA7\n",
      "/images/tutorials-freak-logo.svg\n"
     ]
    }
   ],
   "source": [
    "imgs = soup.find_all(\"img\")\n",
    "for i in imgs:\n",
    "    print(i.get(\"src\"))"
   ]
  },
  {
   "cell_type": "code",
   "execution_count": null,
   "id": "b79aedb7-44e1-4673-9415-27f28e416b56",
   "metadata": {},
   "outputs": [],
   "source": []
  }
 ],
 "metadata": {
  "kernelspec": {
   "display_name": "Python 3 (ipykernel)",
   "language": "python",
   "name": "python3"
  },
  "language_info": {
   "codemirror_mode": {
    "name": "ipython",
    "version": 3
   },
   "file_extension": ".py",
   "mimetype": "text/x-python",
   "name": "python",
   "nbconvert_exporter": "python",
   "pygments_lexer": "ipython3",
   "version": "3.11.0"
  }
 },
 "nbformat": 4,
 "nbformat_minor": 5
}

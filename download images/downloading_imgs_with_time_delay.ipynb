{
 "cells": [
  {
   "cell_type": "code",
   "execution_count": 4,
   "id": "75f7a19c-48f7-4932-b2b1-c57053a3cdbe",
   "metadata": {},
   "outputs": [],
   "source": [
    "import requests as rq\n",
    "from bs4 import BeautifulSoup as bs\n",
    "import os\n",
    "import time"
   ]
  },
  {
   "cell_type": "code",
   "execution_count": 5,
   "id": "02720c7b-ee5f-4113-a957-0c87c84de835",
   "metadata": {},
   "outputs": [
    {
     "data": {
      "text/plain": [
       "[<img alt=\"\" aria-hidden=\"true\" src=\"data:image/svg+xml,%3csvg%20xmlns=%27http://www.w3.org/2000/svg%27%20version=%271.1%27%20width=%27192%27%20height=%2756%27/%3e\" style=\"display:block;max-width:100%;width:initial;height:initial;background:none;opacity:1;border:0;margin:0;padding:0\"/>,\n",
       " <img alt=\"Logo-Img\" class=\"img-fluid\" data-nimg=\"intrinsic\" decoding=\"async\" src=\"data:image/gif;base64,R0lGODlhAQABAIAAAAAAAP///yH5BAEAAAAALAAAAAABAAEAAAIBRAA7\" style=\"position:absolute;top:0;left:0;bottom:0;right:0;box-sizing:border-box;padding:0;border:none;margin:auto;display:block;width:0;height:0;min-width:100%;max-width:100%;min-height:100%;max-height:100%\"/>,\n",
       " <img alt=\"Logo-Img\" class=\"img-fluid\" data-nimg=\"intrinsic\" decoding=\"async\" loading=\"lazy\" src=\"/images/tutorials-freak-logo.svg\" srcset=\"/images/tutorials-freak-logo.svg 1x, /images/tutorials-freak-logo.svg 2x\" style=\"position:absolute;top:0;left:0;bottom:0;right:0;box-sizing:border-box;padding:0;border:none;margin:auto;display:block;width:0;height:0;min-width:100%;max-width:100%;min-height:100%;max-height:100%\"/>,\n",
       " <img alt=\"Serch-Img\" src=\"/images/search.svg\"/>,\n",
       " <img alt=\"Banner-Img\" class=\"img-fluid\" data-nimg=\"responsive\" decoding=\"async\" src=\"data:image/gif;base64,R0lGODlhAQABAIAAAAAAAP///yH5BAEAAAAALAAAAAABAAEAAAIBRAA7\" style=\"position:absolute;top:0;left:0;bottom:0;right:0;box-sizing:border-box;padding:0;border:none;margin:auto;display:block;width:0;height:0;min-width:100%;max-width:100%;min-height:100%;max-height:100%\"/>,\n",
       " <img alt=\"Banner-Img\" class=\"img-fluid\" data-nimg=\"responsive\" decoding=\"async\" loading=\"lazy\" sizes=\"100vw\" src=\"/_next/image?url=%2Fimages%2Fbanner-middle.webp&amp;w=3840&amp;q=75\" srcset=\"/_next/image?url=%2Fimages%2Fbanner-middle.webp&amp;w=640&amp;q=75 640w, /_next/image?url=%2Fimages%2Fbanner-middle.webp&amp;w=750&amp;q=75 750w, /_next/image?url=%2Fimages%2Fbanner-middle.webp&amp;w=828&amp;q=75 828w, /_next/image?url=%2Fimages%2Fbanner-middle.webp&amp;w=1080&amp;q=75 1080w, /_next/image?url=%2Fimages%2Fbanner-middle.webp&amp;w=1200&amp;q=75 1200w, /_next/image?url=%2Fimages%2Fbanner-middle.webp&amp;w=1920&amp;q=75 1920w, /_next/image?url=%2Fimages%2Fbanner-middle.webp&amp;w=2048&amp;q=75 2048w, /_next/image?url=%2Fimages%2Fbanner-middle.webp&amp;w=3840&amp;q=75 3840w\" style=\"position:absolute;top:0;left:0;bottom:0;right:0;box-sizing:border-box;padding:0;border:none;margin:auto;display:block;width:0;height:0;min-width:100%;max-width:100%;min-height:100%;max-height:100%\"/>,\n",
       " <img alt=\"Course-Img\" src=\"/images/kotlin-img.svg\"/>,\n",
       " <img alt=\"Course-Img\" src=\"/images/eagle-img.svg\"/>,\n",
       " <img alt=\"Course-Img\" src=\"/images/apple-img.svg\"/>,\n",
       " <img alt=\"Course-Img\" src=\"/images/angular-img.svg\"/>,\n",
       " <img alt=\"Course-Img\" src=\"/images/python-img.svg\"/>,\n",
       " <img alt=\"Course-Img\" src=\"/images/react-img.svg\"/>,\n",
       " <img alt=\"Course-Img\" src=\"/images/android-img.svg\"/>,\n",
       " <img alt=\"Course-Img\" src=\"/images/java-img.svg\"/>,\n",
       " <img alt=\"\" aria-hidden=\"true\" src=\"data:image/svg+xml,%3csvg%20xmlns=%27http://www.w3.org/2000/svg%27%20version=%271.1%27%20width=%2748%27%20height=%2748%27/%3e\" style=\"display:block;max-width:100%;width:initial;height:initial;background:none;opacity:1;border:0;margin:0;padding:0\"/>,\n",
       " <img alt=\"Why-Choose-Img\" data-nimg=\"intrinsic\" decoding=\"async\" src=\"data:image/gif;base64,R0lGODlhAQABAIAAAAAAAP///yH5BAEAAAAALAAAAAABAAEAAAIBRAA7\" style=\"position:absolute;top:0;left:0;bottom:0;right:0;box-sizing:border-box;padding:0;border:none;margin:auto;display:block;width:0;height:0;min-width:100%;max-width:100%;min-height:100%;max-height:100%\"/>,\n",
       " <img alt=\"Why-Choose-Img\" data-nimg=\"intrinsic\" decoding=\"async\" loading=\"lazy\" src=\"https://d2x0t6n5jvjipg.cloudfront.net/uploads/learning-course/images/home-page/2cd6e0d7-4864-4837-a4a7-e0b120282e8d-1648197173.svg\" srcset=\"https://d2x0t6n5jvjipg.cloudfront.net/uploads/learning-course/images/home-page/2cd6e0d7-4864-4837-a4a7-e0b120282e8d-1648197173.svg 1x, https://d2x0t6n5jvjipg.cloudfront.net/uploads/learning-course/images/home-page/2cd6e0d7-4864-4837-a4a7-e0b120282e8d-1648197173.svg 2x\" style=\"position:absolute;top:0;left:0;bottom:0;right:0;box-sizing:border-box;padding:0;border:none;margin:auto;display:block;width:0;height:0;min-width:100%;max-width:100%;min-height:100%;max-height:100%\"/>,\n",
       " <img alt=\"\" aria-hidden=\"true\" src=\"data:image/svg+xml,%3csvg%20xmlns=%27http://www.w3.org/2000/svg%27%20version=%271.1%27%20width=%2748%27%20height=%2748%27/%3e\" style=\"display:block;max-width:100%;width:initial;height:initial;background:none;opacity:1;border:0;margin:0;padding:0\"/>,\n",
       " <img alt=\"Why-Choose-Img\" data-nimg=\"intrinsic\" decoding=\"async\" src=\"data:image/gif;base64,R0lGODlhAQABAIAAAAAAAP///yH5BAEAAAAALAAAAAABAAEAAAIBRAA7\" style=\"position:absolute;top:0;left:0;bottom:0;right:0;box-sizing:border-box;padding:0;border:none;margin:auto;display:block;width:0;height:0;min-width:100%;max-width:100%;min-height:100%;max-height:100%\"/>,\n",
       " <img alt=\"Why-Choose-Img\" data-nimg=\"intrinsic\" decoding=\"async\" loading=\"lazy\" src=\"https://d2x0t6n5jvjipg.cloudfront.net/uploads/learning-course/images/home-page/e5eb78ac-30fd-4443-8f23-63bd378c0c01-1645691302.svg\" srcset=\"https://d2x0t6n5jvjipg.cloudfront.net/uploads/learning-course/images/home-page/e5eb78ac-30fd-4443-8f23-63bd378c0c01-1645691302.svg 1x, https://d2x0t6n5jvjipg.cloudfront.net/uploads/learning-course/images/home-page/e5eb78ac-30fd-4443-8f23-63bd378c0c01-1645691302.svg 2x\" style=\"position:absolute;top:0;left:0;bottom:0;right:0;box-sizing:border-box;padding:0;border:none;margin:auto;display:block;width:0;height:0;min-width:100%;max-width:100%;min-height:100%;max-height:100%\"/>,\n",
       " <img alt=\"\" aria-hidden=\"true\" src=\"data:image/svg+xml,%3csvg%20xmlns=%27http://www.w3.org/2000/svg%27%20version=%271.1%27%20width=%2748%27%20height=%2748%27/%3e\" style=\"display:block;max-width:100%;width:initial;height:initial;background:none;opacity:1;border:0;margin:0;padding:0\"/>,\n",
       " <img alt=\"Why-Choose-Img\" data-nimg=\"intrinsic\" decoding=\"async\" src=\"data:image/gif;base64,R0lGODlhAQABAIAAAAAAAP///yH5BAEAAAAALAAAAAABAAEAAAIBRAA7\" style=\"position:absolute;top:0;left:0;bottom:0;right:0;box-sizing:border-box;padding:0;border:none;margin:auto;display:block;width:0;height:0;min-width:100%;max-width:100%;min-height:100%;max-height:100%\"/>,\n",
       " <img alt=\"Why-Choose-Img\" data-nimg=\"intrinsic\" decoding=\"async\" loading=\"lazy\" src=\"https://d2x0t6n5jvjipg.cloudfront.net/uploads/learning-course/images/home-page/7f47bf14-d748-40f4-b9a5-921b1bb4df3f-1648197078.svg\" srcset=\"https://d2x0t6n5jvjipg.cloudfront.net/uploads/learning-course/images/home-page/7f47bf14-d748-40f4-b9a5-921b1bb4df3f-1648197078.svg 1x, https://d2x0t6n5jvjipg.cloudfront.net/uploads/learning-course/images/home-page/7f47bf14-d748-40f4-b9a5-921b1bb4df3f-1648197078.svg 2x\" style=\"position:absolute;top:0;left:0;bottom:0;right:0;box-sizing:border-box;padding:0;border:none;margin:auto;display:block;width:0;height:0;min-width:100%;max-width:100%;min-height:100%;max-height:100%\"/>,\n",
       " <img alt=\"\" class=\"img-fluid mt-5\" src=\"/images/compilor.webp\" width=\"90%\"/>,\n",
       " <img alt=\"\" aria-hidden=\"true\" src=\"data:image/svg+xml,%3csvg%20xmlns=%27http://www.w3.org/2000/svg%27%20version=%271.1%27%20width=%2725%27%20height=%2725%27/%3e\" style=\"display:block;max-width:100%;width:initial;height:initial;background:none;opacity:1;border:0;margin:0;padding:0\"/>,\n",
       " <img alt=\"compiler-img\" class=\"\" data-nimg=\"intrinsic\" decoding=\"async\" src=\"data:image/gif;base64,R0lGODlhAQABAIAAAAAAAP///yH5BAEAAAAALAAAAAABAAEAAAIBRAA7\" style=\"position:absolute;top:0;left:0;bottom:0;right:0;box-sizing:border-box;padding:0;border:none;margin:auto;display:block;width:0;height:0;min-width:100%;max-width:100%;min-height:100%;max-height:100%\"/>,\n",
       " <img alt=\"compiler-img\" class=\"\" data-nimg=\"intrinsic\" decoding=\"async\" loading=\"lazy\" src=\"https://d2x0t6n5jvjipg.cloudfront.net/uploads/images/study-material-compiler/f60ffd71-5b88-42f8-8396-75ad661dd4e9-1664191180.svg\" srcset=\"https://d2x0t6n5jvjipg.cloudfront.net/uploads/images/study-material-compiler/f60ffd71-5b88-42f8-8396-75ad661dd4e9-1664191180.svg 1x, https://d2x0t6n5jvjipg.cloudfront.net/uploads/images/study-material-compiler/f60ffd71-5b88-42f8-8396-75ad661dd4e9-1664191180.svg 2x\" style=\"position:absolute;top:0;left:0;bottom:0;right:0;box-sizing:border-box;padding:0;border:none;margin:auto;display:block;width:0;height:0;min-width:100%;max-width:100%;min-height:100%;max-height:100%\"/>,\n",
       " <img alt=\"\" aria-hidden=\"true\" src=\"data:image/svg+xml,%3csvg%20xmlns=%27http://www.w3.org/2000/svg%27%20version=%271.1%27%20width=%2725%27%20height=%2725%27/%3e\" style=\"display:block;max-width:100%;width:initial;height:initial;background:none;opacity:1;border:0;margin:0;padding:0\"/>,\n",
       " <img alt=\"compiler-img\" class=\"\" data-nimg=\"intrinsic\" decoding=\"async\" src=\"data:image/gif;base64,R0lGODlhAQABAIAAAAAAAP///yH5BAEAAAAALAAAAAABAAEAAAIBRAA7\" style=\"position:absolute;top:0;left:0;bottom:0;right:0;box-sizing:border-box;padding:0;border:none;margin:auto;display:block;width:0;height:0;min-width:100%;max-width:100%;min-height:100%;max-height:100%\"/>,\n",
       " <img alt=\"compiler-img\" class=\"\" data-nimg=\"intrinsic\" decoding=\"async\" loading=\"lazy\" src=\"https://d2x0t6n5jvjipg.cloudfront.net/uploads/images/study-material-compiler/b5be3eb0-8ae8-4e22-97c9-0cdcb2a250e4-1664191183.svg\" srcset=\"https://d2x0t6n5jvjipg.cloudfront.net/uploads/images/study-material-compiler/b5be3eb0-8ae8-4e22-97c9-0cdcb2a250e4-1664191183.svg 1x, https://d2x0t6n5jvjipg.cloudfront.net/uploads/images/study-material-compiler/b5be3eb0-8ae8-4e22-97c9-0cdcb2a250e4-1664191183.svg 2x\" style=\"position:absolute;top:0;left:0;bottom:0;right:0;box-sizing:border-box;padding:0;border:none;margin:auto;display:block;width:0;height:0;min-width:100%;max-width:100%;min-height:100%;max-height:100%\"/>,\n",
       " <img alt=\"\" aria-hidden=\"true\" src=\"data:image/svg+xml,%3csvg%20xmlns=%27http://www.w3.org/2000/svg%27%20version=%271.1%27%20width=%2725%27%20height=%2725%27/%3e\" style=\"display:block;max-width:100%;width:initial;height:initial;background:none;opacity:1;border:0;margin:0;padding:0\"/>,\n",
       " <img alt=\"compiler-img\" class=\"\" data-nimg=\"intrinsic\" decoding=\"async\" src=\"data:image/gif;base64,R0lGODlhAQABAIAAAAAAAP///yH5BAEAAAAALAAAAAABAAEAAAIBRAA7\" style=\"position:absolute;top:0;left:0;bottom:0;right:0;box-sizing:border-box;padding:0;border:none;margin:auto;display:block;width:0;height:0;min-width:100%;max-width:100%;min-height:100%;max-height:100%\"/>,\n",
       " <img alt=\"compiler-img\" class=\"\" data-nimg=\"intrinsic\" decoding=\"async\" loading=\"lazy\" src=\"https://d2x0t6n5jvjipg.cloudfront.net/uploads/images/study-material-compiler/329300da-2f51-419c-be8e-58262e91fac0-1664257495.svg\" srcset=\"https://d2x0t6n5jvjipg.cloudfront.net/uploads/images/study-material-compiler/329300da-2f51-419c-be8e-58262e91fac0-1664257495.svg 1x, https://d2x0t6n5jvjipg.cloudfront.net/uploads/images/study-material-compiler/329300da-2f51-419c-be8e-58262e91fac0-1664257495.svg 2x\" style=\"position:absolute;top:0;left:0;bottom:0;right:0;box-sizing:border-box;padding:0;border:none;margin:auto;display:block;width:0;height:0;min-width:100%;max-width:100%;min-height:100%;max-height:100%\"/>,\n",
       " <img alt=\"\" aria-hidden=\"true\" src=\"data:image/svg+xml,%3csvg%20xmlns=%27http://www.w3.org/2000/svg%27%20version=%271.1%27%20width=%2725%27%20height=%2725%27/%3e\" style=\"display:block;max-width:100%;width:initial;height:initial;background:none;opacity:1;border:0;margin:0;padding:0\"/>,\n",
       " <img alt=\"compiler-img\" class=\"\" data-nimg=\"intrinsic\" decoding=\"async\" src=\"data:image/gif;base64,R0lGODlhAQABAIAAAAAAAP///yH5BAEAAAAALAAAAAABAAEAAAIBRAA7\" style=\"position:absolute;top:0;left:0;bottom:0;right:0;box-sizing:border-box;padding:0;border:none;margin:auto;display:block;width:0;height:0;min-width:100%;max-width:100%;min-height:100%;max-height:100%\"/>,\n",
       " <img alt=\"compiler-img\" class=\"\" data-nimg=\"intrinsic\" decoding=\"async\" loading=\"lazy\" src=\"https://d2x0t6n5jvjipg.cloudfront.net/uploads/images/study-material-compiler/da172d80-2fd9-4c25-a180-5c4d7ef1b13b-1663998203.svg\" srcset=\"https://d2x0t6n5jvjipg.cloudfront.net/uploads/images/study-material-compiler/da172d80-2fd9-4c25-a180-5c4d7ef1b13b-1663998203.svg 1x, https://d2x0t6n5jvjipg.cloudfront.net/uploads/images/study-material-compiler/da172d80-2fd9-4c25-a180-5c4d7ef1b13b-1663998203.svg 2x\" style=\"position:absolute;top:0;left:0;bottom:0;right:0;box-sizing:border-box;padding:0;border:none;margin:auto;display:block;width:0;height:0;min-width:100%;max-width:100%;min-height:100%;max-height:100%\"/>,\n",
       " <img alt=\"\" aria-hidden=\"true\" src=\"data:image/svg+xml,%3csvg%20xmlns=%27http://www.w3.org/2000/svg%27%20version=%271.1%27%20width=%2725%27%20height=%2725%27/%3e\" style=\"display:block;max-width:100%;width:initial;height:initial;background:none;opacity:1;border:0;margin:0;padding:0\"/>,\n",
       " <img alt=\"compiler-img\" class=\"\" data-nimg=\"intrinsic\" decoding=\"async\" src=\"data:image/gif;base64,R0lGODlhAQABAIAAAAAAAP///yH5BAEAAAAALAAAAAABAAEAAAIBRAA7\" style=\"position:absolute;top:0;left:0;bottom:0;right:0;box-sizing:border-box;padding:0;border:none;margin:auto;display:block;width:0;height:0;min-width:100%;max-width:100%;min-height:100%;max-height:100%\"/>,\n",
       " <img alt=\"compiler-img\" class=\"\" data-nimg=\"intrinsic\" decoding=\"async\" loading=\"lazy\" src=\"https://d2x0t6n5jvjipg.cloudfront.net/uploads/images/study-material-compiler/ac77b308-23fd-4c41-a26c-c5df53f7e1a0-1664257491.svg\" srcset=\"https://d2x0t6n5jvjipg.cloudfront.net/uploads/images/study-material-compiler/ac77b308-23fd-4c41-a26c-c5df53f7e1a0-1664257491.svg 1x, https://d2x0t6n5jvjipg.cloudfront.net/uploads/images/study-material-compiler/ac77b308-23fd-4c41-a26c-c5df53f7e1a0-1664257491.svg 2x\" style=\"position:absolute;top:0;left:0;bottom:0;right:0;box-sizing:border-box;padding:0;border:none;margin:auto;display:block;width:0;height:0;min-width:100%;max-width:100%;min-height:100%;max-height:100%\"/>,\n",
       " <img alt=\"\" aria-hidden=\"true\" src=\"data:image/svg+xml,%3csvg%20xmlns=%27http://www.w3.org/2000/svg%27%20version=%271.1%27%20width=%2725%27%20height=%2725%27/%3e\" style=\"display:block;max-width:100%;width:initial;height:initial;background:none;opacity:1;border:0;margin:0;padding:0\"/>,\n",
       " <img alt=\"compiler-img\" class=\"\" data-nimg=\"intrinsic\" decoding=\"async\" src=\"data:image/gif;base64,R0lGODlhAQABAIAAAAAAAP///yH5BAEAAAAALAAAAAABAAEAAAIBRAA7\" style=\"position:absolute;top:0;left:0;bottom:0;right:0;box-sizing:border-box;padding:0;border:none;margin:auto;display:block;width:0;height:0;min-width:100%;max-width:100%;min-height:100%;max-height:100%\"/>,\n",
       " <img alt=\"compiler-img\" class=\"\" data-nimg=\"intrinsic\" decoding=\"async\" loading=\"lazy\" src=\"https://d2x0t6n5jvjipg.cloudfront.net/uploads/images/study-material-compiler/0348b25c-17b7-4ade-962b-d71fd3753814-1663998384.svg\" srcset=\"https://d2x0t6n5jvjipg.cloudfront.net/uploads/images/study-material-compiler/0348b25c-17b7-4ade-962b-d71fd3753814-1663998384.svg 1x, https://d2x0t6n5jvjipg.cloudfront.net/uploads/images/study-material-compiler/0348b25c-17b7-4ade-962b-d71fd3753814-1663998384.svg 2x\" style=\"position:absolute;top:0;left:0;bottom:0;right:0;box-sizing:border-box;padding:0;border:none;margin:auto;display:block;width:0;height:0;min-width:100%;max-width:100%;min-height:100%;max-height:100%\"/>,\n",
       " <img alt=\"\" aria-hidden=\"true\" src=\"data:image/svg+xml,%3csvg%20xmlns=%27http://www.w3.org/2000/svg%27%20version=%271.1%27%20width=%2725%27%20height=%2725%27/%3e\" style=\"display:block;max-width:100%;width:initial;height:initial;background:none;opacity:1;border:0;margin:0;padding:0\"/>,\n",
       " <img alt=\"compiler-img\" class=\"\" data-nimg=\"intrinsic\" decoding=\"async\" src=\"data:image/gif;base64,R0lGODlhAQABAIAAAAAAAP///yH5BAEAAAAALAAAAAABAAEAAAIBRAA7\" style=\"position:absolute;top:0;left:0;bottom:0;right:0;box-sizing:border-box;padding:0;border:none;margin:auto;display:block;width:0;height:0;min-width:100%;max-width:100%;min-height:100%;max-height:100%\"/>,\n",
       " <img alt=\"compiler-img\" class=\"\" data-nimg=\"intrinsic\" decoding=\"async\" loading=\"lazy\" src=\"https://d2x0t6n5jvjipg.cloudfront.net/uploads/images/study-material-compiler/6ead73cf-3385-44f1-a540-4f717fc7e467-1663998221.svg\" srcset=\"https://d2x0t6n5jvjipg.cloudfront.net/uploads/images/study-material-compiler/6ead73cf-3385-44f1-a540-4f717fc7e467-1663998221.svg 1x, https://d2x0t6n5jvjipg.cloudfront.net/uploads/images/study-material-compiler/6ead73cf-3385-44f1-a540-4f717fc7e467-1663998221.svg 2x\" style=\"position:absolute;top:0;left:0;bottom:0;right:0;box-sizing:border-box;padding:0;border:none;margin:auto;display:block;width:0;height:0;min-width:100%;max-width:100%;min-height:100%;max-height:100%\"/>,\n",
       " <img alt=\"https://d2x0t6n5jvjipg.cloudfront.net/uploads/learning-course/images/lcourses/99334bcb-06ec-402d-8461-a1d886d97b8e-1654319072.png\" height=\"32\" src=\"https://d2x0t6n5jvjipg.cloudfront.net/uploads/learning-course/images/lcourses/99334bcb-06ec-402d-8461-a1d886d97b8e-1654319072.png\" width=\"32\"/>,\n",
       " <img alt=\"https://d2x0t6n5jvjipg.cloudfront.net/uploads/learning-course/images/lcourses/861b734d-1200-4ef9-9f80-fdcbf2d5918b-1654781169.png\" height=\"32\" src=\"https://d2x0t6n5jvjipg.cloudfront.net/uploads/learning-course/images/lcourses/861b734d-1200-4ef9-9f80-fdcbf2d5918b-1654781169.png\" width=\"32\"/>,\n",
       " <img alt=\"https://d2x0t6n5jvjipg.cloudfront.net/uploads/learning-course/images/lcourses/28a317b0-5132-4aba-8a49-5ea970f23a49-1671862480.png\" height=\"32\" src=\"https://d2x0t6n5jvjipg.cloudfront.net/uploads/learning-course/images/lcourses/28a317b0-5132-4aba-8a49-5ea970f23a49-1671862480.png\" width=\"32\"/>,\n",
       " <img alt=\"https://d2x0t6n5jvjipg.cloudfront.net/uploads/learning-course/images/lcourses/6dee8d03-5667-4b32-b483-af2b62dcd8d3-1647338788.png\" height=\"32\" src=\"https://d2x0t6n5jvjipg.cloudfront.net/uploads/learning-course/images/lcourses/6dee8d03-5667-4b32-b483-af2b62dcd8d3-1647338788.png\" width=\"32\"/>,\n",
       " <img alt=\"https://d2x0t6n5jvjipg.cloudfront.net/uploads/learning-course/images/lcourses/7fd6b3ae-d77a-4e80-80bc-02b5b47c32df-1647346507.png\" height=\"32\" src=\"https://d2x0t6n5jvjipg.cloudfront.net/uploads/learning-course/images/lcourses/7fd6b3ae-d77a-4e80-80bc-02b5b47c32df-1647346507.png\" width=\"32\"/>,\n",
       " <img alt=\"https://d2x0t6n5jvjipg.cloudfront.net/uploads/learning-course/images/lcourses/6f00770a-cf1d-44e6-b68b-a6cbce05d35c-1647341196.png\" height=\"32\" src=\"https://d2x0t6n5jvjipg.cloudfront.net/uploads/learning-course/images/lcourses/6f00770a-cf1d-44e6-b68b-a6cbce05d35c-1647341196.png\" width=\"32\"/>,\n",
       " <img alt=\"https://d2x0t6n5jvjipg.cloudfront.net/uploads/learning-course/images/lcourses/283eae7c-8974-49f2-a0a5-e0ac4c0e9215-1647338853.png\" height=\"32\" src=\"https://d2x0t6n5jvjipg.cloudfront.net/uploads/learning-course/images/lcourses/283eae7c-8974-49f2-a0a5-e0ac4c0e9215-1647338853.png\" width=\"32\"/>,\n",
       " <img alt=\"https://d2x0t6n5jvjipg.cloudfront.net/uploads/learning-course/images/lcourses/777b9062-963f-41b9-b379-dbd7e45155ac-1647341118.png\" height=\"32\" src=\"https://d2x0t6n5jvjipg.cloudfront.net/uploads/learning-course/images/lcourses/777b9062-963f-41b9-b379-dbd7e45155ac-1647341118.png\" width=\"32\"/>,\n",
       " <img alt=\"https://d2x0t6n5jvjipg.cloudfront.net/uploads/learning-course/images/lcourses/bbbfd30a-e52d-4e03-ae5c-d76e95e7a22f-1647341152.png\" height=\"32\" src=\"https://d2x0t6n5jvjipg.cloudfront.net/uploads/learning-course/images/lcourses/bbbfd30a-e52d-4e03-ae5c-d76e95e7a22f-1647341152.png\" width=\"32\"/>,\n",
       " <img alt=\"https://d2x0t6n5jvjipg.cloudfront.net/uploads/learning-course/images/lcourses/6809478b-e2d9-40c4-bd9b-49af619fe51d-1647341184.png\" height=\"32\" src=\"https://d2x0t6n5jvjipg.cloudfront.net/uploads/learning-course/images/lcourses/6809478b-e2d9-40c4-bd9b-49af619fe51d-1647341184.png\" width=\"32\"/>,\n",
       " <img alt=\"https://d2x0t6n5jvjipg.cloudfront.net/uploads/learning-course/images/lcourses/6866b1dd-63f8-4890-8575-b9694a0f2059-1647346542.png\" height=\"32\" src=\"https://d2x0t6n5jvjipg.cloudfront.net/uploads/learning-course/images/lcourses/6866b1dd-63f8-4890-8575-b9694a0f2059-1647346542.png\" width=\"32\"/>,\n",
       " <img alt=\"https://d2x0t6n5jvjipg.cloudfront.net/uploads/learning-course/images/lcourses/1d92f6e0-6c73-4cfe-97af-6c1107cb3a81-1647346526.png\" height=\"32\" src=\"https://d2x0t6n5jvjipg.cloudfront.net/uploads/learning-course/images/lcourses/1d92f6e0-6c73-4cfe-97af-6c1107cb3a81-1647346526.png\" width=\"32\"/>,\n",
       " <img alt=\"https://d2x0t6n5jvjipg.cloudfront.net/uploads/learning-course/images/lcourses/a111d660-d0b6-404b-86e1-6b729fbdc179-1683633265.png\" height=\"32\" src=\"https://d2x0t6n5jvjipg.cloudfront.net/uploads/learning-course/images/lcourses/a111d660-d0b6-404b-86e1-6b729fbdc179-1683633265.png\" width=\"32\"/>,\n",
       " <img alt=\"https://d2x0t6n5jvjipg.cloudfront.net/uploads/learning-course/images/lcourses/6dee8d03-5667-4b32-b483-af2b62dcd8d3-1647338788.png\" height=\"32\" src=\"https://d2x0t6n5jvjipg.cloudfront.net/uploads/learning-course/images/lcourses/6dee8d03-5667-4b32-b483-af2b62dcd8d3-1647338788.png\" width=\"32\"/>,\n",
       " <img alt=\"https://d2x0t6n5jvjipg.cloudfront.net/uploads/learning-course/images/lcourses/7fd6b3ae-d77a-4e80-80bc-02b5b47c32df-1647346507.png\" height=\"32\" src=\"https://d2x0t6n5jvjipg.cloudfront.net/uploads/learning-course/images/lcourses/7fd6b3ae-d77a-4e80-80bc-02b5b47c32df-1647346507.png\" width=\"32\"/>,\n",
       " <img alt=\"https://d2x0t6n5jvjipg.cloudfront.net/uploads/learning-course/images/lcourses/283eae7c-8974-49f2-a0a5-e0ac4c0e9215-1647338853.png\" height=\"32\" src=\"https://d2x0t6n5jvjipg.cloudfront.net/uploads/learning-course/images/lcourses/283eae7c-8974-49f2-a0a5-e0ac4c0e9215-1647338853.png\" width=\"32\"/>,\n",
       " <img alt=\"https://d2x0t6n5jvjipg.cloudfront.net/uploads/learning-course/images/lcourses/bbbfd30a-e52d-4e03-ae5c-d76e95e7a22f-1647341152.png\" height=\"32\" src=\"https://d2x0t6n5jvjipg.cloudfront.net/uploads/learning-course/images/lcourses/bbbfd30a-e52d-4e03-ae5c-d76e95e7a22f-1647341152.png\" width=\"32\"/>,\n",
       " <img alt=\"https://d2x0t6n5jvjipg.cloudfront.net/uploads/learning-course/images/lcourses/6866b1dd-63f8-4890-8575-b9694a0f2059-1647346542.png\" height=\"32\" src=\"https://d2x0t6n5jvjipg.cloudfront.net/uploads/learning-course/images/lcourses/6866b1dd-63f8-4890-8575-b9694a0f2059-1647346542.png\" width=\"32\"/>,\n",
       " <img alt=\"https://d2x0t6n5jvjipg.cloudfront.net/uploads/learning-course/images/lcourses/1d92f6e0-6c73-4cfe-97af-6c1107cb3a81-1647346526.png\" height=\"32\" src=\"https://d2x0t6n5jvjipg.cloudfront.net/uploads/learning-course/images/lcourses/1d92f6e0-6c73-4cfe-97af-6c1107cb3a81-1647346526.png\" width=\"32\"/>,\n",
       " <img alt=\"https://d2x0t6n5jvjipg.cloudfront.net/uploads/learning-course/images/lcourses/2abdc9df-3185-46bb-8d15-48f957251183-1698927883.png\" height=\"32\" src=\"https://d2x0t6n5jvjipg.cloudfront.net/uploads/learning-course/images/lcourses/2abdc9df-3185-46bb-8d15-48f957251183-1698927883.png\" width=\"32\"/>,\n",
       " <img alt=\"https://d2x0t6n5jvjipg.cloudfront.net/uploads/learning-course/images/lcourses/bbbfd30a-e52d-4e03-ae5c-d76e95e7a22f-1647341152.png\" height=\"32\" src=\"https://d2x0t6n5jvjipg.cloudfront.net/uploads/learning-course/images/lcourses/bbbfd30a-e52d-4e03-ae5c-d76e95e7a22f-1647341152.png\" width=\"32\"/>,\n",
       " <img alt=\"https://d2x0t6n5jvjipg.cloudfront.net/uploads/learning-course/images/lcourses/a111d660-d0b6-404b-86e1-6b729fbdc179-1683633265.png\" height=\"32\" src=\"https://d2x0t6n5jvjipg.cloudfront.net/uploads/learning-course/images/lcourses/a111d660-d0b6-404b-86e1-6b729fbdc179-1683633265.png\" width=\"32\"/>,\n",
       " <img class=\"img-fluid\" height=\"40\" src=\"/images/ws-cube-tech-logo.svg\" width=\"210\"/>,\n",
       " <img class=\"img-fluid w-100\" src=\"https://d2x0t6n5jvjipg.cloudfront.net/uploads/images/live-course/efd015c2-41c7-4a6b-a070-0f703772b6b4-1706854302.jpg\"/>,\n",
       " <img class=\"img-fluid w-100\" src=\"https://d2x0t6n5jvjipg.cloudfront.net/uploads/images/live-course/15bc3a4a-e684-45b9-b22a-d156711f1505-1706854288.jpg\"/>,\n",
       " <img class=\"img-fluid w-100\" src=\"https://d2x0t6n5jvjipg.cloudfront.net/uploads/images/live-course/3bc94ced-cf7a-4d08-9a65-581c38fb14c2-1706854314.jpg\"/>,\n",
       " <img class=\"img-fluid w-100\" src=\"https://d2x0t6n5jvjipg.cloudfront.net/uploads/images/live-course/60d7ca0f-7dc9-4d96-a9b5-155fd32ebda8-1706854405.jpg\"/>,\n",
       " <img class=\"img-fluid w-100\" src=\"https://d2x0t6n5jvjipg.cloudfront.net/uploads/images/live-course/948a0a2c-3199-44b3-a1c2-be41e5c5c3e1-1706854606.jpg\"/>,\n",
       " <img class=\"img-fluid w-100\" src=\"https://d2x0t6n5jvjipg.cloudfront.net/uploads/images/live-course/34497f12-312c-4827-8dae-7d7914314e74-1706854737.jpg\"/>,\n",
       " <img alt=\"Google-Play-Img\" src=\"/images/play-store.png\"/>,\n",
       " <img alt=\"Phone-Img\" class=\"img-fluid\" loading=\"lazy\" src=\"https://d2x0t6n5jvjipg.cloudfront.net/uploads/learning-course/images/home-page/3d2ca30d-f3bd-45b7-aae5-2c547e2a35a2-1690631574.webp\"/>,\n",
       " <img alt=\"\" aria-hidden=\"true\" src=\"data:image/svg+xml,%3csvg%20xmlns=%27http://www.w3.org/2000/svg%27%20version=%271.1%27%20width=%27192%27%20height=%2756%27/%3e\" style=\"display:block;max-width:100%;width:initial;height:initial;background:none;opacity:1;border:0;margin:0;padding:0\"/>,\n",
       " <img alt=\"Logo-Img\" class=\"img-fluid\" data-nimg=\"intrinsic\" decoding=\"async\" src=\"data:image/gif;base64,R0lGODlhAQABAIAAAAAAAP///yH5BAEAAAAALAAAAAABAAEAAAIBRAA7\" style=\"position:absolute;top:0;left:0;bottom:0;right:0;box-sizing:border-box;padding:0;border:none;margin:auto;display:block;width:0;height:0;min-width:100%;max-width:100%;min-height:100%;max-height:100%\"/>,\n",
       " <img alt=\"Logo-Img\" class=\"img-fluid\" data-nimg=\"intrinsic\" decoding=\"async\" loading=\"lazy\" src=\"/images/tutorials-freak-logo.svg\" srcset=\"/images/tutorials-freak-logo.svg 1x, /images/tutorials-freak-logo.svg 2x\" style=\"position:absolute;top:0;left:0;bottom:0;right:0;box-sizing:border-box;padding:0;border:none;margin:auto;display:block;width:0;height:0;min-width:100%;max-width:100%;min-height:100%;max-height:100%\"/>]"
      ]
     },
     "execution_count": 5,
     "metadata": {},
     "output_type": "execute_result"
    }
   ],
   "source": [
    "url = \"https://www.tutorialsfreak.com/\"\n",
    "web = rq.get(url)\n",
    "soup = bs(web.content,\"html.parser\")\n",
    "imgs_list = soup.find_all(\"img\")\n",
    "imgs_list"
   ]
  },
  {
   "cell_type": "markdown",
   "id": "ab08d0c4-055f-42ce-b0ab-3fc5f33fc891",
   "metadata": {},
   "source": [
    "1. Check if the directory exists: os.path.exists('images')\n",
    "os.path.exists(path): This function checks whether a given file or directory exists at the specified path.\n",
    "If the directory exists, it returns True.\n",
    "If the directory does not exist, it returns False.\n",
    "In this case, it checks whether a directory named images exists in the current working directory.\n",
    "\n",
    "2. Condition: if not os.path.exists('images'):\n",
    "The not keyword negates the result of os.path.exists('images'). So, if the folder does not exist (os.path.exists('images') returns False), this condition will evaluate to True, and the code block inside the if statement will be executed.\n",
    "\n",
    "3. Create the directory: os.makedirs('images')\n",
    "os.makedirs(path): This function creates a directory (or multiple directories) at the specified path.\n",
    "In this case, os.makedirs('images') creates a directory called images in the current working directory.\n",
    "If the images folder already exists, the function does nothing (because it is wrapped inside the if condition).\n",
    "If the directory doesn't exist, it is created, ensuring there is a place to store the downloaded images."
   ]
  },
  {
   "cell_type": "code",
   "execution_count": 6,
   "id": "28ac73fa-c58f-4d74-94fe-f517123f9989",
   "metadata": {},
   "outputs": [],
   "source": [
    "# Create a folder to store images:\n",
    "if not os.path.exists('images'):\n",
    "    os.makedirs('images')"
   ]
  },
  {
   "cell_type": "code",
   "execution_count": 22,
   "id": "2b2e70fd-1e8f-449b-8c73-a4cbb2938526",
   "metadata": {},
   "outputs": [
    {
     "name": "stdout",
     "output_type": "stream",
     "text": [
      "Failed to download image?url=%2Fimages%2Fbanner-middle.webp&w=3840&q=75: [Errno 22] Invalid argument: 'images/image?url=%2Fimages%2Fbanner-middle.webp&w=3840&q=75'\n"
     ]
    }
   ],
   "source": [
    "# download each image with a delay within requests:\n",
    "for i in imgs_list:\n",
    "    img_url = i.get('src')\n",
    "\n",
    "    # Some websites use relative URLs, convert them to absolute URLs\n",
    "    if not img_url.startswith('http'):\n",
    "        img_url = f\"{url}{img_url}\"\n",
    "\n",
    "    # get the img name usually form the url:\n",
    "    img_name = os.path.basename(img_url)\n",
    "\n",
    "    if not os.path.exists(f'images/{img_name}'):\n",
    "        try:\n",
    "        # download image\n",
    "            img_data = rq.get(img_url).content\n",
    "\n",
    "        # save the image:\n",
    "            with open(f'images/{img_name}','wb') as img_file:\n",
    "                img_file.write(img_data)\n",
    "            print(f'downloaded {img_name}')\n",
    "        # Add a delay between requests to avoid overwhelming the server\n",
    "            time.sleep(2)  # 2-second delay   \n",
    "\n",
    "        except Exception as e:\n",
    "            print(f'Failed to download {img_name}: {e}')"
   ]
  },
  {
   "cell_type": "code",
   "execution_count": null,
   "id": "f2dda6b5-fc8b-49dc-b49e-8d3c306d2ab7",
   "metadata": {},
   "outputs": [],
   "source": []
  }
 ],
 "metadata": {
  "kernelspec": {
   "display_name": "Python 3 (ipykernel)",
   "language": "python",
   "name": "python3"
  },
  "language_info": {
   "codemirror_mode": {
    "name": "ipython",
    "version": 3
   },
   "file_extension": ".py",
   "mimetype": "text/x-python",
   "name": "python",
   "nbconvert_exporter": "python",
   "pygments_lexer": "ipython3",
   "version": "3.11.0"
  }
 },
 "nbformat": 4,
 "nbformat_minor": 5
}
